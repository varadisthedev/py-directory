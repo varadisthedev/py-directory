{
 "cells": [
  {
   "cell_type": "code",
   "execution_count": null,
   "id": "8dc5257c-84cc-4c10-939a-dc1c703073b4",
   "metadata": {},
   "outputs": [],
   "source": []
  }
 ],
 "metadata": {
  "kernelspec": {
   "display_name": "",
   "name": ""
  },
  "language_info": {
   "name": ""
  }
 },
 "nbformat": 4,
 "nbformat_minor": 5
}
