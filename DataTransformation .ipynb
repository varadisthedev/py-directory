{
 "cells": [
  {
   "cell_type": "code",
   "execution_count": 81,
   "id": "d8a5039b-f4ab-4cb4-a9b9-6dbc295e625b",
   "metadata": {},
   "outputs": [],
   "source": [
    "import os \n",
    "import pandas as pd \n",
    "import numpy as np \n",
    "from sklearn.preprocessing import MinMaxScaler, StandardScaler, LabelEncoder\n"
   ]
  },
  {
   "cell_type": "code",
   "execution_count": 82,
   "id": "3e07c676-e397-4782-96f4-1f8ce0207a1f",
   "metadata": {},
   "outputs": [
    {
     "data": {
      "text/html": [
       "<div>\n",
       "<style scoped>\n",
       "    .dataframe tbody tr th:only-of-type {\n",
       "        vertical-align: middle;\n",
       "    }\n",
       "\n",
       "    .dataframe tbody tr th {\n",
       "        vertical-align: top;\n",
       "    }\n",
       "\n",
       "    .dataframe thead th {\n",
       "        text-align: right;\n",
       "    }\n",
       "</style>\n",
       "<table border=\"1\" class=\"dataframe\">\n",
       "  <thead>\n",
       "    <tr style=\"text-align: right;\">\n",
       "      <th></th>\n",
       "      <th>age</th>\n",
       "      <th>salary</th>\n",
       "      <th>name</th>\n",
       "      <th>department</th>\n",
       "      <th>education</th>\n",
       "    </tr>\n",
       "  </thead>\n",
       "  <tbody>\n",
       "    <tr>\n",
       "      <th>0</th>\n",
       "      <td>19</td>\n",
       "      <td>10000.0</td>\n",
       "      <td>devansh</td>\n",
       "      <td>cse</td>\n",
       "      <td>btech</td>\n",
       "    </tr>\n",
       "    <tr>\n",
       "      <th>1</th>\n",
       "      <td>12</td>\n",
       "      <td>110012021.0</td>\n",
       "      <td>varad</td>\n",
       "      <td>cse</td>\n",
       "      <td>mba</td>\n",
       "    </tr>\n",
       "    <tr>\n",
       "      <th>2</th>\n",
       "      <td>23</td>\n",
       "      <td>NaN</td>\n",
       "      <td>raj</td>\n",
       "      <td>mech</td>\n",
       "      <td>btech</td>\n",
       "    </tr>\n",
       "    <tr>\n",
       "      <th>3</th>\n",
       "      <td>21</td>\n",
       "      <td>123121.0</td>\n",
       "      <td>rohit</td>\n",
       "      <td>mech</td>\n",
       "      <td>mba</td>\n",
       "    </tr>\n",
       "    <tr>\n",
       "      <th>4</th>\n",
       "      <td>21</td>\n",
       "      <td>344432.0</td>\n",
       "      <td>devarshi</td>\n",
       "      <td>cse</td>\n",
       "      <td>btech</td>\n",
       "    </tr>\n",
       "  </tbody>\n",
       "</table>\n",
       "</div>"
      ],
      "text/plain": [
       "   age       salary      name department education\n",
       "0   19      10000.0   devansh        cse     btech\n",
       "1   12  110012021.0     varad        cse       mba\n",
       "2   23          NaN       raj       mech     btech\n",
       "3   21     123121.0     rohit       mech       mba\n",
       "4   21     344432.0  devarshi        cse     btech"
      ]
     },
     "execution_count": 82,
     "metadata": {},
     "output_type": "execute_result"
    }
   ],
   "source": [
    "data={\n",
    "    'age':[19,12,23,21,21,12,45,43,54,23],\n",
    "    'salary':[10000,110012021,np.nan,123121,344432,np.nan,121212,424,534342,98844],\n",
    "    'name':['devansh','varad','raj','rohit','devarshi','divyansh','rani','saksham','harshita','ayushi'],\n",
    "    'department':['cse','cse','mech','mech','cse','cse','mech','cse','cse','mech'],\n",
    "    'education':['btech','mba','btech','mba','btech','btech','btech','mba','mba','mba']\n",
    "};\n",
    "df=pd.DataFrame(data);\n",
    "df.head()"
   ]
  },
  {
   "cell_type": "code",
   "execution_count": 83,
   "id": "8458d72f-78af-4f68-b4ed-8b8aec12c906",
   "metadata": {},
   "outputs": [
    {
     "data": {
      "text/plain": [
       "'C:\\\\Users\\\\varad\\\\Desktop\\\\py'"
      ]
     },
     "execution_count": 83,
     "metadata": {},
     "output_type": "execute_result"
    }
   ],
   "source": [
    "os.getcwd()"
   ]
  },
  {
   "cell_type": "markdown",
   "id": "07181a70-2fe1-4e16-ad2b-68f2efafbdfa",
   "metadata": {},
   "source": [
    "## Normalization"
   ]
  },
  {
   "cell_type": "code",
   "execution_count": 84,
   "id": "436d3c52-6c57-4079-bf0c-f9949f761cf8",
   "metadata": {},
   "outputs": [
    {
     "name": "stdout",
     "output_type": "stream",
     "text": [
      "data before normalization: \n"
     ]
    },
    {
     "data": {
      "text/plain": [
       "0        10000.0\n",
       "1    110012021.0\n",
       "2            NaN\n",
       "3       123121.0\n",
       "4       344432.0\n",
       "Name: salary, dtype: float64"
      ]
     },
     "execution_count": 84,
     "metadata": {},
     "output_type": "execute_result"
    }
   ],
   "source": [
    "print(\"data before normalization: \");\n",
    "df['salary'].head()"
   ]
  },
  {
   "cell_type": "code",
   "execution_count": 85,
   "id": "234dc737-7ef6-47f5-896c-a85af2e169ff",
   "metadata": {},
   "outputs": [],
   "source": [
    "# normalization of salary column \n",
    "scaler=MinMaxScaler()\n",
    "df['salary_min_max']=MinMaxScaler().fit_transform(df[['salary']]) "
   ]
  },
  {
   "cell_type": "code",
   "execution_count": 86,
   "id": "4e93933e-7cca-4121-9a91-5485ef368912",
   "metadata": {},
   "outputs": [
    {
     "name": "stdout",
     "output_type": "stream",
     "text": [
      "data after normalization: \n"
     ]
    },
    {
     "data": {
      "text/plain": [
       "0    0.000087\n",
       "1    1.000000\n",
       "2         NaN\n",
       "3    0.001115\n",
       "4    0.003127\n",
       "Name: salary_min_max, dtype: float64"
      ]
     },
     "execution_count": 86,
     "metadata": {},
     "output_type": "execute_result"
    }
   ],
   "source": [
    "print(\"data after normalization: \");\n",
    "df['salary_min_max'].head()"
   ]
  },
  {
   "cell_type": "markdown",
   "id": "fe4da0c7-1199-42d1-80f2-568bce44df17",
   "metadata": {},
   "source": [
    "## Standardization"
   ]
  },
  {
   "cell_type": "code",
   "execution_count": 87,
   "id": "509b57ee-7b30-4e18-92cb-d9adebd00e79",
   "metadata": {},
   "outputs": [
    {
     "name": "stdout",
     "output_type": "stream",
     "text": [
      "data before serialization : \n"
     ]
    },
    {
     "data": {
      "text/plain": [
       "0        10000.0\n",
       "1    110012021.0\n",
       "2            NaN\n",
       "3       123121.0\n",
       "4       344432.0\n",
       "Name: salary, dtype: float64"
      ]
     },
     "execution_count": 87,
     "metadata": {},
     "output_type": "execute_result"
    }
   ],
   "source": [
    "print(\"data before serialization : \");\n",
    "df['salary'].head()"
   ]
  },
  {
   "cell_type": "code",
   "execution_count": 88,
   "id": "90eaffec-31b8-4869-a636-a4b2ce3394bf",
   "metadata": {},
   "outputs": [],
   "source": [
    "std_scaler=StandardScaler()\n",
    "df['income_zscore']=StandardScaler().fit_transform(df[['salary']]) "
   ]
  },
  {
   "cell_type": "code",
   "execution_count": 89,
   "id": "9f59f29e-e6a9-445c-8965-95ffb2929a8b",
   "metadata": {},
   "outputs": [
    {
     "name": "stdout",
     "output_type": "stream",
     "text": [
      "data after normalization: \n"
     ]
    },
    {
     "data": {
      "text/plain": [
       "0   -0.382532\n",
       "1    2.645723\n",
       "2         NaN\n",
       "3   -0.379418\n",
       "4   -0.373325\n",
       "Name: income_zscore, dtype: float64"
      ]
     },
     "execution_count": 89,
     "metadata": {},
     "output_type": "execute_result"
    }
   ],
   "source": [
    "print(\"data after normalization: \");\n",
    "df['income_zscore'].head()"
   ]
  },
  {
   "cell_type": "markdown",
   "id": "ce79976e-5796-445c-b2f1-a0a825a1941a",
   "metadata": {},
   "source": [
    "## DataScaling "
   ]
  },
  {
   "cell_type": "code",
   "execution_count": 90,
   "id": "ca84ca05-8e2c-4705-aca2-dc7e8454ffcb",
   "metadata": {},
   "outputs": [],
   "source": [
    "\n",
    "from sklearn.preprocessing import RobustScaler\n",
    "scaler=RobustScaler()\n",
    "scaledData=scaler.fit_transform(df[['salary']])"
   ]
  },
  {
   "cell_type": "code",
   "execution_count": 91,
   "id": "43e2920c-2297-4e69-9f2c-987fb78e9dc1",
   "metadata": {},
   "outputs": [
    {
     "data": {
      "text/plain": [
       "array([[-3.55771838e-01],\n",
       "       [ 3.48550731e+02],\n",
       "       [            nan],\n",
       "       [ 3.02750126e-03],\n",
       "       [ 7.04985941e-01],\n",
       "       [            nan],\n",
       "       [-3.02750126e-03],\n",
       "       [-3.86145177e-01],\n",
       "       [ 1.30734609e+00],\n",
       "       [-7.39747491e-02]])"
      ]
     },
     "execution_count": 91,
     "metadata": {},
     "output_type": "execute_result"
    }
   ],
   "source": [
    "scaledData"
   ]
  },
  {
   "cell_type": "code",
   "execution_count": 92,
   "id": "664fe30b-fb96-4d66-a2ae-5877b9dbc54f",
   "metadata": {},
   "outputs": [],
   "source": [
    "## encoding \n",
    "label=LabelEncoder()\n",
    "df['encoded']=label.fit_transform(df['education']) "
   ]
  },
  {
   "cell_type": "code",
   "execution_count": 93,
   "id": "b551cd54-1273-449b-84f3-2ae91f1a50b7",
   "metadata": {},
   "outputs": [
    {
     "name": "stdout",
     "output_type": "stream",
     "text": [
      "before label encoding on education column: \n",
      "0    btech\n",
      "1      mba\n",
      "2    btech\n",
      "3      mba\n",
      "4    btech\n",
      "Name: education, dtype: object\n",
      "\n",
      "after label encoding on education column: \n",
      "0    0\n",
      "1    1\n",
      "2    0\n",
      "3    1\n",
      "4    0\n",
      "Name: encoded, dtype: int64\n"
     ]
    }
   ],
   "source": [
    "print(f\"before label encoding on education column: \\n{df['education'].head()}\\n\")\n",
    "print(f\"after label encoding on education column: \\n{df['encoded'].head()}\")\n"
   ]
  },
  {
   "cell_type": "code",
   "execution_count": 94,
   "id": "23bf56b8-4f66-4fda-96bb-e4ea165aa728",
   "metadata": {},
   "outputs": [
    {
     "data": {
      "text/html": [
       "<div>\n",
       "<style scoped>\n",
       "    .dataframe tbody tr th:only-of-type {\n",
       "        vertical-align: middle;\n",
       "    }\n",
       "\n",
       "    .dataframe tbody tr th {\n",
       "        vertical-align: top;\n",
       "    }\n",
       "\n",
       "    .dataframe thead th {\n",
       "        text-align: right;\n",
       "    }\n",
       "</style>\n",
       "<table border=\"1\" class=\"dataframe\">\n",
       "  <thead>\n",
       "    <tr style=\"text-align: right;\">\n",
       "      <th></th>\n",
       "      <th>age</th>\n",
       "      <th>salary</th>\n",
       "      <th>name</th>\n",
       "      <th>education</th>\n",
       "      <th>salary_min_max</th>\n",
       "      <th>income_zscore</th>\n",
       "      <th>encoded</th>\n",
       "      <th>department_cse</th>\n",
       "      <th>department_mech</th>\n",
       "    </tr>\n",
       "  </thead>\n",
       "  <tbody>\n",
       "    <tr>\n",
       "      <th>0</th>\n",
       "      <td>19</td>\n",
       "      <td>10000.0</td>\n",
       "      <td>devansh</td>\n",
       "      <td>btech</td>\n",
       "      <td>0.000087</td>\n",
       "      <td>-0.382532</td>\n",
       "      <td>0</td>\n",
       "      <td>True</td>\n",
       "      <td>False</td>\n",
       "    </tr>\n",
       "    <tr>\n",
       "      <th>1</th>\n",
       "      <td>12</td>\n",
       "      <td>110012021.0</td>\n",
       "      <td>varad</td>\n",
       "      <td>mba</td>\n",
       "      <td>1.000000</td>\n",
       "      <td>2.645723</td>\n",
       "      <td>1</td>\n",
       "      <td>True</td>\n",
       "      <td>False</td>\n",
       "    </tr>\n",
       "    <tr>\n",
       "      <th>2</th>\n",
       "      <td>23</td>\n",
       "      <td>NaN</td>\n",
       "      <td>raj</td>\n",
       "      <td>btech</td>\n",
       "      <td>NaN</td>\n",
       "      <td>NaN</td>\n",
       "      <td>0</td>\n",
       "      <td>False</td>\n",
       "      <td>True</td>\n",
       "    </tr>\n",
       "    <tr>\n",
       "      <th>3</th>\n",
       "      <td>21</td>\n",
       "      <td>123121.0</td>\n",
       "      <td>rohit</td>\n",
       "      <td>mba</td>\n",
       "      <td>0.001115</td>\n",
       "      <td>-0.379418</td>\n",
       "      <td>1</td>\n",
       "      <td>False</td>\n",
       "      <td>True</td>\n",
       "    </tr>\n",
       "    <tr>\n",
       "      <th>4</th>\n",
       "      <td>21</td>\n",
       "      <td>344432.0</td>\n",
       "      <td>devarshi</td>\n",
       "      <td>btech</td>\n",
       "      <td>0.003127</td>\n",
       "      <td>-0.373325</td>\n",
       "      <td>0</td>\n",
       "      <td>True</td>\n",
       "      <td>False</td>\n",
       "    </tr>\n",
       "    <tr>\n",
       "      <th>5</th>\n",
       "      <td>12</td>\n",
       "      <td>NaN</td>\n",
       "      <td>divyansh</td>\n",
       "      <td>btech</td>\n",
       "      <td>NaN</td>\n",
       "      <td>NaN</td>\n",
       "      <td>0</td>\n",
       "      <td>True</td>\n",
       "      <td>False</td>\n",
       "    </tr>\n",
       "    <tr>\n",
       "      <th>6</th>\n",
       "      <td>45</td>\n",
       "      <td>121212.0</td>\n",
       "      <td>rani</td>\n",
       "      <td>btech</td>\n",
       "      <td>0.001098</td>\n",
       "      <td>-0.379470</td>\n",
       "      <td>0</td>\n",
       "      <td>False</td>\n",
       "      <td>True</td>\n",
       "    </tr>\n",
       "    <tr>\n",
       "      <th>7</th>\n",
       "      <td>43</td>\n",
       "      <td>424.0</td>\n",
       "      <td>saksham</td>\n",
       "      <td>mba</td>\n",
       "      <td>0.000000</td>\n",
       "      <td>-0.382795</td>\n",
       "      <td>1</td>\n",
       "      <td>True</td>\n",
       "      <td>False</td>\n",
       "    </tr>\n",
       "    <tr>\n",
       "      <th>8</th>\n",
       "      <td>54</td>\n",
       "      <td>534342.0</td>\n",
       "      <td>harshita</td>\n",
       "      <td>mba</td>\n",
       "      <td>0.004853</td>\n",
       "      <td>-0.368097</td>\n",
       "      <td>1</td>\n",
       "      <td>True</td>\n",
       "      <td>False</td>\n",
       "    </tr>\n",
       "    <tr>\n",
       "      <th>9</th>\n",
       "      <td>23</td>\n",
       "      <td>98844.0</td>\n",
       "      <td>ayushi</td>\n",
       "      <td>mba</td>\n",
       "      <td>0.000895</td>\n",
       "      <td>-0.380086</td>\n",
       "      <td>1</td>\n",
       "      <td>False</td>\n",
       "      <td>True</td>\n",
       "    </tr>\n",
       "  </tbody>\n",
       "</table>\n",
       "</div>"
      ],
      "text/plain": [
       "   age       salary      name education  salary_min_max  income_zscore  \\\n",
       "0   19      10000.0   devansh     btech        0.000087      -0.382532   \n",
       "1   12  110012021.0     varad       mba        1.000000       2.645723   \n",
       "2   23          NaN       raj     btech             NaN            NaN   \n",
       "3   21     123121.0     rohit       mba        0.001115      -0.379418   \n",
       "4   21     344432.0  devarshi     btech        0.003127      -0.373325   \n",
       "5   12          NaN  divyansh     btech             NaN            NaN   \n",
       "6   45     121212.0      rani     btech        0.001098      -0.379470   \n",
       "7   43        424.0   saksham       mba        0.000000      -0.382795   \n",
       "8   54     534342.0  harshita       mba        0.004853      -0.368097   \n",
       "9   23      98844.0    ayushi       mba        0.000895      -0.380086   \n",
       "\n",
       "   encoded  department_cse  department_mech  \n",
       "0        0            True            False  \n",
       "1        1            True            False  \n",
       "2        0           False             True  \n",
       "3        1           False             True  \n",
       "4        0            True            False  \n",
       "5        0            True            False  \n",
       "6        0           False             True  \n",
       "7        1            True            False  \n",
       "8        1            True            False  \n",
       "9        1           False             True  "
      ]
     },
     "execution_count": 94,
     "metadata": {},
     "output_type": "execute_result"
    }
   ],
   "source": [
    "one_hot =pd.get_dummies(df,columns=['department'])\n",
    "one_hot "
   ]
  },
  {
   "cell_type": "markdown",
   "id": "68e56ea0-7914-4274-b0f9-e5ed26853b31",
   "metadata": {},
   "source": [
    "## Handling missing data"
   ]
  },
  {
   "cell_type": "code",
   "execution_count": 95,
   "id": "fb9579a8-ab35-4128-84cc-9114a867e9b7",
   "metadata": {},
   "outputs": [
    {
     "name": "stdout",
     "output_type": "stream",
     "text": [
      "Missing values per column:\n",
      "age               0\n",
      "salary            2\n",
      "name              0\n",
      "department        0\n",
      "education         0\n",
      "salary_min_max    2\n",
      "income_zscore     2\n",
      "encoded           0\n",
      "dtype: int64\n"
     ]
    }
   ],
   "source": [
    "\n",
    "print(\"Missing values per column:\")\n",
    "print(df.isnull().sum())\n"
   ]
  },
  {
   "cell_type": "code",
   "execution_count": 96,
   "id": "2ac77781-b9b7-4de0-93ab-5c6e7003b85d",
   "metadata": {},
   "outputs": [
    {
     "name": "stdout",
     "output_type": "stream",
     "text": [
      "Salary column after filling with mean:\n",
      "0        10000.0\n",
      "1    110012021.0\n",
      "2     13905549.5\n",
      "3       123121.0\n",
      "4       344432.0\n",
      "Name: salary_fill_mean, dtype: float64\n"
     ]
    }
   ],
   "source": [
    "df['salary_fill_mean'] = df['salary'].fillna(df['salary'].mean())\n",
    "\n",
    "print(\"Salary column after filling with mean:\")\n",
    "print(df['salary_fill_mean'].head())\n"
   ]
  },
  {
   "cell_type": "code",
   "execution_count": 97,
   "id": "73eee29d-64e3-41a3-9b85-efd12d2b6f65",
   "metadata": {},
   "outputs": [
    {
     "name": "stdout",
     "output_type": "stream",
     "text": [
      "Department column after filling with mode:\n",
      "0     cse\n",
      "1     cse\n",
      "2    mech\n",
      "3    mech\n",
      "4     cse\n",
      "Name: department_fill_mode, dtype: object\n",
      "Shape before dropping rows: (10, 10)\n",
      "Shape after dropping rows: (8, 10)\n"
     ]
    }
   ],
   "source": [
    "\n",
    "# Fill missing categorical with mode\n",
    "df['department_fill_mode'] = df['department'].fillna(df['department'].mode()[0])\n",
    "print(\"Department column after filling with mode:\")\n",
    "print(df['department_fill_mode'].head())\n",
    "\n",
    "# Drop rows with missing values\n",
    "print(\"Shape before dropping rows:\", df.shape)\n",
    "df_dropna = df.dropna()\n",
    "print(\"Shape after dropping rows:\", df_dropna.shape)\n",
    "\n"
   ]
  },
  {
   "cell_type": "markdown",
   "id": "c6673c10-4beb-4712-9281-2230f0093c50",
   "metadata": {},
   "source": [
    "## Agreegation"
   ]
  },
  {
   "cell_type": "code",
   "execution_count": 98,
   "id": "7831179b-5054-4e32-ba68-6795e094483a",
   "metadata": {},
   "outputs": [
    {
     "name": "stdout",
     "output_type": "stream",
     "text": [
      "Group by Department (mean Salary, avg Age):\n",
      "            salary_fill_mean        age\n",
      "department                             \n",
      "cse             2.080113e+07  26.833333\n",
      "mech            3.562182e+06  28.000000\n",
      "department           cse        mech\n",
      "education                           \n",
      "btech       4.753327e+06  7013380.75\n",
      "mba         3.684893e+07   110982.50\n"
     ]
    }
   ],
   "source": [
    "print(\"Group by Department (mean Salary, avg Age):\")\n",
    "print(df.groupby('department')[['salary_fill_mean','age']].mean())\n",
    "\n",
    "pivot = pd.pivot_table(df, values='salary_fill_mean', index='education', columns='department', aggfunc='mean')\n",
    "print(pivot)"
   ]
  },
  {
   "cell_type": "markdown",
   "id": "8fbc9c2a-3914-4dce-8c7d-429228819970",
   "metadata": {},
   "source": [
    "## binning"
   ]
  },
  {
   "cell_type": "code",
   "execution_count": 99,
   "id": "1dccd14f-e9c4-4cc1-966f-80d098a988fb",
   "metadata": {},
   "outputs": [
    {
     "name": "stdout",
     "output_type": "stream",
     "text": [
      "   age age_bin\n",
      "0   19   Young\n",
      "1   12   Young\n",
      "2   23   Young\n",
      "3   21   Young\n",
      "4   21   Young\n"
     ]
    }
   ],
   "source": [
    "bins = [0, 25, 40, 100]\n",
    "labels = ['Young','Middle-aged','Old']\n",
    "df['age_bin'] = pd.cut(df['age'], bins=bins, labels=labels)\n",
    "print(df[['age','age_bin']].head())"
   ]
  },
  {
   "cell_type": "code",
   "execution_count": 100,
   "id": "97af63fb-b6f5-4290-acfc-89a4016d57ed",
   "metadata": {},
   "outputs": [
    {
     "name": "stdout",
     "output_type": "stream",
     "text": [
      "   salary_fill_mean salary_bin\n",
      "0           10000.0        Low\n",
      "1       110012021.0       High\n",
      "2        13905549.5       High\n",
      "3          123121.0     Medium\n",
      "4          344432.0     Medium\n"
     ]
    }
   ],
   "source": [
    "df['salary_bin'] = pd.qcut(df['salary_fill_mean'], q=3, labels=['Low','Medium','High'])\n",
    "print(df[['salary_fill_mean','salary_bin']].head())"
   ]
  },
  {
   "cell_type": "code",
   "execution_count": null,
   "id": "0ad8694e-ba5d-4974-9610-3f8f7a76a600",
   "metadata": {},
   "outputs": [],
   "source": []
  }
 ],
 "metadata": {
  "kernelspec": {
   "display_name": "Python 3 (ipykernel)",
   "language": "python",
   "name": "python3"
  },
  "language_info": {
   "codemirror_mode": {
    "name": "ipython",
    "version": 3
   },
   "file_extension": ".py",
   "mimetype": "text/x-python",
   "name": "python",
   "nbconvert_exporter": "python",
   "pygments_lexer": "ipython3",
   "version": "3.13.5"
  }
 },
 "nbformat": 4,
 "nbformat_minor": 5
}
