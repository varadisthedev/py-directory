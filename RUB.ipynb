{
 "cells": [
  {
   "cell_type": "code",
   "execution_count": 3,
   "id": "d8a5039b-f4ab-4cb4-a9b9-6dbc295e625b",
   "metadata": {},
   "outputs": [],
   "source": [
    "import os \n",
    "import pandas as pd \n",
    "import numpy as np \n",
    "from sklearn.preprocessing import MinMaxScaler, StandardScaler, LabelEncoder\n"
   ]
  },
  {
   "cell_type": "markdown",
   "id": "6038a18d-6c5d-489f-9760-7cf9da23af7b",
   "metadata": {},
   "source": [
    "\n",
    "## Step 1: Create Sample Dataset"
   ]
  },
  {
   "cell_type": "code",
   "execution_count": 4,
   "id": "3e07c676-e397-4782-96f4-1f8ce0207a1f",
   "metadata": {},
   "outputs": [
    {
     "data": {
      "text/html": [
       "<div>\n",
       "<style scoped>\n",
       "    .dataframe tbody tr th:only-of-type {\n",
       "        vertical-align: middle;\n",
       "    }\n",
       "\n",
       "    .dataframe tbody tr th {\n",
       "        vertical-align: top;\n",
       "    }\n",
       "\n",
       "    .dataframe thead th {\n",
       "        text-align: right;\n",
       "    }\n",
       "</style>\n",
       "<table border=\"1\" class=\"dataframe\">\n",
       "  <thead>\n",
       "    <tr style=\"text-align: right;\">\n",
       "      <th></th>\n",
       "      <th>age</th>\n",
       "      <th>salary</th>\n",
       "      <th>name</th>\n",
       "      <th>department</th>\n",
       "      <th>education</th>\n",
       "    </tr>\n",
       "  </thead>\n",
       "  <tbody>\n",
       "    <tr>\n",
       "      <th>0</th>\n",
       "      <td>19</td>\n",
       "      <td>10000.0</td>\n",
       "      <td>devansh</td>\n",
       "      <td>cse</td>\n",
       "      <td>btech</td>\n",
       "    </tr>\n",
       "    <tr>\n",
       "      <th>1</th>\n",
       "      <td>12</td>\n",
       "      <td>110012021.0</td>\n",
       "      <td>varad</td>\n",
       "      <td>cse</td>\n",
       "      <td>mba</td>\n",
       "    </tr>\n",
       "    <tr>\n",
       "      <th>2</th>\n",
       "      <td>23</td>\n",
       "      <td>NaN</td>\n",
       "      <td>raj</td>\n",
       "      <td>mech</td>\n",
       "      <td>btech</td>\n",
       "    </tr>\n",
       "    <tr>\n",
       "      <th>3</th>\n",
       "      <td>21</td>\n",
       "      <td>123121.0</td>\n",
       "      <td>rohit</td>\n",
       "      <td>mech</td>\n",
       "      <td>mba</td>\n",
       "    </tr>\n",
       "    <tr>\n",
       "      <th>4</th>\n",
       "      <td>21</td>\n",
       "      <td>344432.0</td>\n",
       "      <td>devarshi</td>\n",
       "      <td>cse</td>\n",
       "      <td>btech</td>\n",
       "    </tr>\n",
       "  </tbody>\n",
       "</table>\n",
       "</div>"
      ],
      "text/plain": [
       "   age       salary      name department education\n",
       "0   19      10000.0   devansh        cse     btech\n",
       "1   12  110012021.0     varad        cse       mba\n",
       "2   23          NaN       raj       mech     btech\n",
       "3   21     123121.0     rohit       mech       mba\n",
       "4   21     344432.0  devarshi        cse     btech"
      ]
     },
     "execution_count": 4,
     "metadata": {},
     "output_type": "execute_result"
    }
   ],
   "source": [
    "data={\n",
    "    'age':[19,12,23,21,21,12,45,43,54,23],\n",
    "    'salary':[10000,110012021,np.nan,123121,344432,np.nan,121212,424,534342,98844],\n",
    "    'name':['devansh','varad','raj','rohit','devarshi','divyansh','rani','saksham','harshita','ayushi'],\n",
    "    'department':['cse','cse','mech','mech','cse','cse','mech','cse','cse','mech'],\n",
    "    'education':['btech','mba','btech','mba','btech','btech','btech','mba','mba','mba']\n",
    "};\n",
    "df=pd.DataFrame(data);\n",
    "df.head()\n"
   ]
  },
  {
   "cell_type": "code",
   "execution_count": 5,
   "id": "fb9579a8-ab35-4128-84cc-9114a867e9b7",
   "metadata": {},
   "outputs": [
    {
     "name": "stdout",
     "output_type": "stream",
     "text": [
      "Original Dataset:\n",
      "    Age  Income  Gender   Department\n",
      "0   28   55000    Male           IT\n",
      "1   34   72000  Female    Marketing\n",
      "2   41   85000  Female      Finance\n",
      "3   29   48000    Male           HR\n",
      "4   52   95000  Female  Engineering\n",
      "\n",
      "Average Income by Gender:\n",
      "    Gender   Income\n",
      "0  Female  84000.0\n",
      "1    Male  51500.0\n",
      "\n",
      "Final DataFrame:\n",
      "    Age  Income  Gender  Income_MinMax  Income_Zscore  Gender_label  \\\n",
      "0   28   55000    Male       0.148936      -0.906403             1   \n",
      "1   34   72000  Female       0.510638       0.056650             0   \n",
      "2   41   85000  Female       0.787234       0.793102             0   \n",
      "3   29   48000    Male       0.000000      -1.302954             1   \n",
      "4   52   95000  Female       1.000000       1.359604             0   \n",
      "\n",
      "   Department_Engineering  Department_Finance  Department_HR  Department_IT  \\\n",
      "0                   False               False          False           True   \n",
      "1                   False               False          False          False   \n",
      "2                   False                True          False          False   \n",
      "3                   False               False           True          False   \n",
      "4                    True               False          False          False   \n",
      "\n",
      "   Department_Marketing  \n",
      "0                 False  \n",
      "1                  True  \n",
      "2                 False  \n",
      "3                 False  \n",
      "4                 False  \n"
     ]
    }
   ],
   "source": [
    "import pandas as pd\n",
    "import numpy as np\n",
    "from sklearn.preprocessing import MinMaxScaler, StandardScaler, LabelEncoder\n",
    "\n",
    "data = {\n",
    "    'Age': [28, 34, 41, 29, 52],\n",
    "    'Income': [55000, 72000, 85000, 48000, 95000],\n",
    "    'Gender': ['Male', 'Female', 'Female', 'Male', 'Female'],\n",
    "    'Department': ['IT', 'Marketing', 'Finance', 'HR', 'Engineering']\n",
    "}\n",
    "\n",
    "df = pd.DataFrame(data)\n",
    "print(\"Original Dataset:\\n\", df)\n",
    "\n",
    "scaler = MinMaxScaler()\n",
    "df['Income_MinMax'] = scaler.fit_transform(df[['Income']])\n",
    "\n",
    "standard_scaler = StandardScaler()\n",
    "df['Income_Zscore'] = standard_scaler.fit_transform(df[['Income']])\n",
    "\n",
    "le = LabelEncoder()\n",
    "df['Gender_label'] = le.fit_transform(df['Gender'])\n",
    "\n",
    "df_encoded = pd.get_dummies(df, columns=['Department'])\n",
    "\n",
    "grouped = df.groupby('Gender')['Income'].mean().reset_index()\n",
    "print(\"\\nAverage Income by Gender:\\n\", grouped)\n",
    "\n",
    "print(\"\\nFinal DataFrame:\\n\", df_encoded)"
   ]
  },
  {
   "cell_type": "code",
   "execution_count": null,
   "id": "2b1d5eef-99af-40a8-be3e-daba028af8c1",
   "metadata": {},
   "outputs": [],
   "source": []
  }
 ],
 "metadata": {
  "kernelspec": {
   "display_name": "Python 3 (ipykernel)",
   "language": "python",
   "name": "python3"
  },
  "language_info": {
   "codemirror_mode": {
    "name": "ipython",
    "version": 3
   },
   "file_extension": ".py",
   "mimetype": "text/x-python",
   "name": "python",
   "nbconvert_exporter": "python",
   "pygments_lexer": "ipython3",
   "version": "3.13.5"
  }
 },
 "nbformat": 4,
 "nbformat_minor": 5
}
