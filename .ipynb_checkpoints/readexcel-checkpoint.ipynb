{
 "cells": [
  {
   "cell_type": "code",
   "execution_count": 7,
   "id": "6693594d-0aa0-4a11-aa72-1524b6bd440f",
   "metadata": {},
   "outputs": [],
   "source": [
    "import pandas as pd"
   ]
  },
  {
   "cell_type": "code",
   "execution_count": 8,
   "id": "74b1c1ac-39ff-4cf8-8359-828103298a60",
   "metadata": {},
   "outputs": [
    {
     "data": {
      "text/html": [
       "<div>\n",
       "<style scoped>\n",
       "    .dataframe tbody tr th:only-of-type {\n",
       "        vertical-align: middle;\n",
       "    }\n",
       "\n",
       "    .dataframe tbody tr th {\n",
       "        vertical-align: top;\n",
       "    }\n",
       "\n",
       "    .dataframe thead th {\n",
       "        text-align: right;\n",
       "    }\n",
       "</style>\n",
       "<table border=\"1\" class=\"dataframe\">\n",
       "  <thead>\n",
       "    <tr style=\"text-align: right;\">\n",
       "      <th></th>\n",
       "      <th>Customer Name</th>\n",
       "      <th>Segment</th>\n",
       "      <th>Country</th>\n",
       "      <th>State</th>\n",
       "      <th>City</th>\n",
       "    </tr>\n",
       "    <tr>\n",
       "      <th>Customer ID</th>\n",
       "      <th></th>\n",
       "      <th></th>\n",
       "      <th></th>\n",
       "      <th></th>\n",
       "      <th></th>\n",
       "    </tr>\n",
       "  </thead>\n",
       "  <tbody>\n",
       "    <tr>\n",
       "      <th>C003</th>\n",
       "      <td>Bob Smith</td>\n",
       "      <td>Corporate</td>\n",
       "      <td>Canada</td>\n",
       "      <td>Ontario</td>\n",
       "      <td>Toronto</td>\n",
       "    </tr>\n",
       "    <tr>\n",
       "      <th>C009</th>\n",
       "      <td>Charlie Brown</td>\n",
       "      <td>Home Office</td>\n",
       "      <td>United Kingdom</td>\n",
       "      <td>England</td>\n",
       "      <td>London</td>\n",
       "    </tr>\n",
       "    <tr>\n",
       "      <th>C010</th>\n",
       "      <td>Alice Johnson</td>\n",
       "      <td>Consumer</td>\n",
       "      <td>United States</td>\n",
       "      <td>California</td>\n",
       "      <td>Los Angeles</td>\n",
       "    </tr>\n",
       "    <tr>\n",
       "      <th>C011</th>\n",
       "      <td>Bob Smith</td>\n",
       "      <td>Corporate</td>\n",
       "      <td>Canada</td>\n",
       "      <td>Ontario</td>\n",
       "      <td>Toronto</td>\n",
       "    </tr>\n",
       "    <tr>\n",
       "      <th>C012</th>\n",
       "      <td>Charlie Brown</td>\n",
       "      <td>Home Office</td>\n",
       "      <td>United Kingdom</td>\n",
       "      <td>England</td>\n",
       "      <td>London</td>\n",
       "    </tr>\n",
       "  </tbody>\n",
       "</table>\n",
       "</div>"
      ],
      "text/plain": [
       "             Customer Name      Segment         Country       State  \\\n",
       "Customer ID                                                           \n",
       "C003             Bob Smith    Corporate          Canada     Ontario   \n",
       "C009         Charlie Brown  Home Office  United Kingdom     England   \n",
       "C010         Alice Johnson     Consumer   United States  California   \n",
       "C011             Bob Smith    Corporate          Canada     Ontario   \n",
       "C012         Charlie Brown  Home Office  United Kingdom     England   \n",
       "\n",
       "                    City  \n",
       "Customer ID               \n",
       "C003             Toronto  \n",
       "C009              London  \n",
       "C010         Los Angeles  \n",
       "C011             Toronto  \n",
       "C012              London  "
      ]
     },
     "execution_count": 8,
     "metadata": {},
     "output_type": "execute_result"
    }
   ],
   "source": [
    "df1 = pd.read_excel('Global_Superstore_EDA.xlsx', index_col=0)\n",
    "df1.tail()\n"
   ]
  },
  {
   "cell_type": "code",
   "execution_count": null,
   "id": "91c2048e-1557-4f8c-9e48-da51c0b442d1",
   "metadata": {},
   "outputs": [],
   "source": []
  }
 ],
 "metadata": {
  "kernelspec": {
   "display_name": "Python 3 (ipykernel)",
   "language": "python",
   "name": "python3"
  },
  "language_info": {
   "codemirror_mode": {
    "name": "ipython",
    "version": 3
   },
   "file_extension": ".py",
   "mimetype": "text/x-python",
   "name": "python",
   "nbconvert_exporter": "python",
   "pygments_lexer": "ipython3",
   "version": "3.13.5"
  }
 },
 "nbformat": 4,
 "nbformat_minor": 5
}
